{
 "cells": [
  {
   "cell_type": "code",
   "execution_count": 17,
   "id": "072785bf",
   "metadata": {},
   "outputs": [],
   "source": [
    "import numpy as np\n",
    "import matplotlib.pyplot as plt\n",
    "import pandas as pd  \n",
    "import os\n",
    "from torch.optim import Adam\n",
    "from itertools import product\n",
    "import torch\n",
    "from torch import nn\n",
    "from torch.utils.data import Dataset, DataLoader\n",
    "from sklearn.metrics import classification_report, confusion_matrix, roc_auc_score\n",
    "import seaborn as sns\n",
    "import random"
   ]
  },
  {
   "cell_type": "markdown",
   "id": "6a654339",
   "metadata": {},
   "source": [
    "# Clases"
   ]
  },
  {
   "cell_type": "code",
   "execution_count": 18,
   "id": "9a33d780",
   "metadata": {},
   "outputs": [],
   "source": [
    "class Datos(Dataset): \n",
    "    def __init__(self, imagenes, etiquetas):\n",
    "        \"\"\"\n",
    "        Convierte los datos originales a tensores de Pytorch.\n",
    "        \n",
    "        Parameters\n",
    "        --------------\n",
    "        imagenes:\n",
    "            Son las imagenes del dataset.\n",
    "        etiquetas:\n",
    "            Son las etiquetas que se usan para la calsificación\n",
    "        \n",
    "        Returns\n",
    "        -------------\n",
    "        No devuelve nada.\n",
    "        \"\"\"\n",
    "        self.imagenes = torch.tensor(imagenes, dtype=torch.float32)\n",
    "        self.etiquetas = torch.tensor(etiquetas, dtype=torch.float32)\n",
    "\n",
    "    def __len__(self):\n",
    "        \"\"\"\n",
    "        Calcula la cantidad de muestras de la base.\n",
    "        \n",
    "        Parameters\n",
    "        --------------\n",
    "        No recibe parámetros.\n",
    "        \n",
    "        Returns\n",
    "        -------------\n",
    "        len(self.imagenes):\n",
    "            Numero total de muestras.\n",
    "        \"\"\"\n",
    "        return len(self.imagenes)\n",
    "    \n",
    "    def set_imagen(self, idx, nueva_imagen):\n",
    "        \"\"\"\n",
    "        Reemplaza la imagen en el índice dado con una nueva imagen.\n",
    "        \n",
    "        Parameters\n",
    "        ----------\n",
    "        idx : int\n",
    "            Índice de la imagen a modificar.\n",
    "        nueva_imagen : torch.Tensor\n",
    "            Nueva imagen que reemplazará a la existente.\n",
    "        \"\"\"\n",
    "        self.imagenes[idx] = nueva_imagen\n",
    "\n",
    "    def set_etiqueta(self, idx, nueva_etiqueta):\n",
    "        \"\"\"\n",
    "        Reemplaza la etiqueta en el índice dado con una nueva etiqueta.\n",
    "        \n",
    "        Parameters\n",
    "        ----------\n",
    "        idx : int\n",
    "            Índice de la etiqueta a modificar.\n",
    "        nueva_etiqueta : torch.Tensor\n",
    "            Nueva etiqueta que reemplazará a la existente.\n",
    "        \"\"\"\n",
    "        self.etiquetas[idx] = nueva_etiqueta\n",
    "        \n",
    "    def __getitem__(self, idx):\n",
    "        \"\"\"\n",
    "        Obtener la imagen y la etiqueta de una imagen en específico.\n",
    "        \n",
    "        Parameters\n",
    "        --------------\n",
    "        idx:\n",
    "            Indice de la imagen a recuperar.\n",
    "        \n",
    "        Returns\n",
    "        -------------\n",
    "        self.imagenes[idx]:\n",
    "            Imagen del indice idx.\n",
    "        self.etiquetas[idx]:\n",
    "            Etiqueta de la imagen en el indice idx.\n",
    "        \"\"\"\n",
    "        return self.imagenes[idx], self.etiquetas[idx]"
   ]
  },
  {
   "cell_type": "code",
   "execution_count": 19,
   "id": "10601ab1",
   "metadata": {},
   "outputs": [],
   "source": [
    "# Definir el modelo\n",
    "class RedNeuronal(nn.Module):\n",
    "    \"\"\"\n",
    "    Red neuronal multicapa simple para clasificación binaria.\n",
    "    Toma como entrada imágenes en escala de grises de 28x28 píxeles.\n",
    "    \"\"\"\n",
    "\n",
    "    def __init__(self):\n",
    "        \"\"\"\n",
    "        Constructor de la red neuronal.\n",
    "        Define la arquitectura de la red como una secuencia de capas lineales y funciones de activación ReLU.\n",
    "        \"\"\"\n",
    "        super().__init__()  # Llama a nn.Module para heredar correctamente\n",
    "        self.net = nn.Sequential(\n",
    "            nn.Flatten(),                  # Convierte (1, 28, 28) → (784)\n",
    "            nn.Linear(28 * 28, 64),        # 784 → 64\n",
    "            nn.ReLU(),\n",
    "            nn.Linear(64, 32),             # 64 → 32\n",
    "            nn.ReLU(),\n",
    "            nn.Linear(32, 16),             # 32 → 16\n",
    "            nn.ReLU(),\n",
    "            nn.Linear(16, 1)               # 16 → 1 (salida binaria sin activación final)\n",
    "        )\n",
    "\n",
    "    def forward(self, x):\n",
    "        \"\"\"\n",
    "        Define el paso hacia adelante (forward) de la red.\n",
    "        \n",
    "        Parameters\n",
    "        ----------\n",
    "        x : torch.Tensor\n",
    "            Tensor de entrada con forma (batch_size, 1, 28, 28)\n",
    "\n",
    "        Returns\n",
    "        -------\n",
    "        torch.Tensor\n",
    "            Salida del modelo con forma (batch_size,)\n",
    "        \"\"\"\n",
    "        return self.net(x).squeeze(1)  # Elimina dimensión extra de salida (batch_size, 1) → (batch_size,)"
   ]
  },
  {
   "cell_type": "markdown",
   "id": "749f898f",
   "metadata": {},
   "source": [
    "# Implementación"
   ]
  },
  {
   "cell_type": "code",
   "execution_count": 20,
   "id": "1956bc7f",
   "metadata": {},
   "outputs": [],
   "source": [
    "#Se cargan los datos 28 x 28\n",
    "data = np.load(\"chestmnist.npz\")\n",
    "\n",
    "# Función para convertir etiquetas multiclase a binaria\n",
    "def etiquetas_binarias(etiquetas):\n",
    "    \"\"\"\n",
    "    Convierte etiquetas multiclase/multietiqueta en etiquetas binarias.\n",
    "\n",
    "    Parameters\n",
    "    ----------\n",
    "    etiquetas : numpy.ndarray\n",
    "        Etiquetas originales de 0 y 1 donde 1 indica la presencia de una enefermedad\n",
    "\n",
    "    Returns\n",
    "    -------\n",
    "    numpy.ndarray\n",
    "        Arreglo con valores 0.0 o 1.0 indicando si la muestra tiene al menos una enfermedad\n",
    "    \"\"\"\n",
    "    return (etiquetas.sum(axis=1) > 0).astype(np.float32)\n",
    "\n",
    "\n",
    "# Imágenes y etiquetas\n",
    "X_train = data['train_images']\n",
    "y_train = etiquetas_binarias(data['train_labels'])\n",
    "\n",
    "X_test = data['test_images']\n",
    "y_test = etiquetas_binarias(data['test_labels'])\n",
    "\n",
    "# Agregar canal (1, H, W) pra poder usar Pytorch \n",
    "X_train = X_train[:, np.newaxis, :, :] #np.newaxis agregra una dimensión al arreglo\n",
    "X_test = X_test[:, np.newaxis, :, :] \n",
    "\n",
    "# Convertir los datos a tensores\n",
    "train_dataset = Datos(X_train, y_train)\n",
    "test_dataset = Datos(X_test, y_test)\n",
    "\n",
    "# Convertir los datos a DataLoaders para la implementación del modelo\n",
    "train_loader = DataLoader(train_dataset, batch_size=64, shuffle=True)\n",
    "test_loader = DataLoader(test_dataset, batch_size=64)"
   ]
  },
  {
   "cell_type": "code",
   "execution_count": 21,
   "id": "a2403e39",
   "metadata": {},
   "outputs": [],
   "source": [
    "# Crear el modelo\n",
    "modelo = RedNeuronal()\n",
    "\n",
    "# Definir función de costo con pesos\n",
    "peso = torch.tensor([(y_train == 0).sum() / (y_train == 1).sum()], dtype=torch.float32)\n",
    "criterio = nn.BCEWithLogitsLoss(pos_weight=peso) \n",
    "\n",
    "# Definir forma de optimizar el modelo (optimizar función de costos)\n",
    "optimizador = torch.optim.SGD(modelo.parameters(), lr=0.001)\n",
    "\n",
    "# Entrenar el modelo\n",
    "perdida_batch = []\n",
    "batches_validos = 0\n",
    "\n",
    "for epoch in range(150):\n",
    "    modelo.train()\n",
    "    perdida_total = 0\n",
    "    for X_batch, y_batch in train_loader:\n",
    "        optimizador.zero_grad() # Limpia los gradientes acumulados\n",
    "        predicciones = modelo(X_batch) \n",
    "        perdida = criterio(predicciones, y_batch)\n",
    "        perdida.backward() # Calcula el gradiente con respecto a cada parámetro del modelo\n",
    "        optimizador.step() # Actualiza los parametros segun los gradientes\n",
    "        perdida_total += perdida.item() # Perdida acumulada en esta iteraccion\n",
    "    perdida_batch.append(perdida_total/len(train_loader))\n",
    "    # print(f\"Época {epoch+1} - Pérdida promedio: {perdida_total/len(train_loader):.4f}\")\n",
    "    "
   ]
  },
  {
   "cell_type": "code",
   "execution_count": 22,
   "id": "b311d292",
   "metadata": {},
   "outputs": [],
   "source": [
    "# Evaluar el modelo\n",
    "modelo.eval()\n",
    "\n",
    "pred_finales = []\n",
    "probabilidades = []\n",
    "etiquetas_reales = []\n",
    "\n",
    "correctas = 0\n",
    "total = 0\n",
    "\n",
    "with torch.no_grad(): # Desactiva el cálculo de gradientes (se usan los optimos)\n",
    "    for X_batch, y_batch in test_loader:\n",
    "        predicciones = modelo(X_batch) # Valores entre 0 y 1 \n",
    "        preds = (predicciones > 0.5).float() # Clasifica 1 si es mayor a 0.5\n",
    "        \n",
    "        correctas += (preds == y_batch).sum().item()\n",
    "        total += y_batch.size(0)\n",
    "        \n",
    "        probabilidades.extend(predicciones.numpy())\n",
    "        pred_finales.extend(preds.numpy())\n",
    "        etiquetas_reales.extend(y_batch.numpy())"
   ]
  },
  {
   "cell_type": "markdown",
   "id": "8774cd7c",
   "metadata": {},
   "source": [
    "# Red Variable por Hiperparámetros"
   ]
  },
  {
   "cell_type": "code",
   "execution_count": 29,
   "id": "d543d7a2",
   "metadata": {},
   "outputs": [],
   "source": [
    "# Definir el modelo\n",
    "class RedNeuronalOpt(nn.Module):\n",
    "    \"\"\"\n",
    "    Red neuronal multicapa simple para clasificación binaria.\n",
    "    Toma como entrada imágenes en escala de grises de 28x28 píxeles.\n",
    "    \"\"\"\n",
    "\n",
    "    def __init__(self,dimensiones,capas_ocultas):\n",
    "        \"\"\"\n",
    "        Constructor de la red neuronal.\n",
    "        Define la arquitectura de la red como una secuencia de capas lineales y funciones de activación ReLU.\n",
    "        \"\"\"\n",
    "        super(RedNeuronalOpt, self).__init__()\n",
    "        capas = []\n",
    "        dim = dimensiones\n",
    "        for h in capas_ocultas:\n",
    "            capas.append(nn.Linear(dim, h))\n",
    "            capas.append(nn.ReLU())\n",
    "            dim = h\n",
    "        capas.append(nn.Linear(dim, 1))\n",
    "        self.net = nn.Sequential(*capas)\n",
    "\n",
    "    def forward(self, x):\n",
    "        \"\"\"\n",
    "        Define el paso hacia adelante (forward) de la red.\n",
    "        \n",
    "        Parameters\n",
    "        ----------\n",
    "        x : torch.Tensor\n",
    "            Tensor de entrada con forma (batch_size, 1, 28, 28)\n",
    "\n",
    "        Returns\n",
    "        -------\n",
    "        torch.Tensor\n",
    "            Salida del modelo con forma (batch_size,)\n",
    "        \"\"\"\n",
    "        return self.net(x.view(x.size(0), -1)).squeeze(1)"
   ]
  },
  {
   "cell_type": "markdown",
   "id": "de574dcc",
   "metadata": {},
   "source": [
    "## Funcion donde se evalua el modelo para encontrar el óptimo"
   ]
  },
  {
   "cell_type": "code",
   "execution_count": 30,
   "id": "6e7b65b1",
   "metadata": {},
   "outputs": [],
   "source": [
    "def optimizar(dimensiones, capas_ocultas, lr, train_loader, test_loader, epochs=20):\n",
    "    modelo = RedNeuronalOpt(dimensiones, capas_ocultas)\n",
    "    optimizador = Adam(modelo.parameters(), lr=lr)\n",
    "    criterio = nn.BCEWithLogitsLoss()\n",
    "\n",
    "    for epoca in range(epochs):\n",
    "        modelo.train()\n",
    "        for X_batch, y_batch in train_loader:\n",
    "            pred = modelo(X_batch)\n",
    "            perdida = criterio(pred, y_batch)\n",
    "            optimizador.zero_grad()\n",
    "            perdida.backward()\n",
    "            optimizador.step()\n",
    "    \n",
    "    modelo.eval()\n",
    "    preds_finales, etiquetas_reales = [], []\n",
    "    with torch.no_grad():\n",
    "        for X_batch, y_batch in test_loader:\n",
    "            pred = modelo(X_batch)\n",
    "            pred_etiq = (pred > 0.5).float()\n",
    "            preds_finales.extend(pred_etiq.numpy())\n",
    "            etiquetas_reales.extend(y_batch.numpy())\n",
    "    acc = np.mean(np.array(preds_finales) == np.array(etiquetas_reales))\n",
    "    return acc, modelo"
   ]
  },
  {
   "cell_type": "markdown",
   "id": "0502efe4",
   "metadata": {},
   "source": [
    "## Encontrar óptimo"
   ]
  },
  {
   "cell_type": "code",
   "execution_count": 31,
   "id": "60a41e33",
   "metadata": {},
   "outputs": [
    {
     "name": "stdout",
     "output_type": "stream",
     "text": [
      "Capas: [512, 128], LR: 0.005 → Accuracy: 0.5317\n",
      "Capas: [512, 128], LR: 0.001 → Accuracy: 0.5317\n",
      "Capas: [512, 128], LR: 0.0005 → Accuracy: 0.5992\n",
      "Capas: [512, 128], LR: 0.0001 → Accuracy: 0.6069\n",
      "Capas: [512, 128], LR: 1e-05 → Accuracy: 0.6184\n",
      "Capas: [512, 256, 64], LR: 0.005 → Accuracy: 0.5317\n",
      "Capas: [512, 256, 64], LR: 0.001 → Accuracy: 0.5317\n",
      "Capas: [512, 256, 64], LR: 0.0005 → Accuracy: 0.6204\n",
      "Capas: [512, 256, 64], LR: 0.0001 → Accuracy: 0.6115\n",
      "Capas: [512, 256, 64], LR: 1e-05 → Accuracy: 0.6311\n",
      "Capas: [64, 32, 16], LR: 0.005 → Accuracy: 0.5317\n",
      "Capas: [64, 32, 16], LR: 0.001 → Accuracy: 0.6174\n",
      "Capas: [64, 32, 16], LR: 0.0005 → Accuracy: 0.6254\n",
      "Capas: [64, 32, 16], LR: 0.0001 → Accuracy: 0.6334\n",
      "Capas: [64, 32, 16], LR: 1e-05 → Accuracy: 0.6353\n",
      "Capas: [256, 64, 32, 16], LR: 0.005 → Accuracy: 0.5317\n",
      "Capas: [256, 64, 32, 16], LR: 0.001 → Accuracy: 0.6146\n",
      "Capas: [256, 64, 32, 16], LR: 0.0005 → Accuracy: 0.6116\n",
      "Capas: [256, 64, 32, 16], LR: 0.0001 → Accuracy: 0.6343\n",
      "Capas: [256, 64, 32, 16], LR: 1e-05 → Accuracy: 0.6252\n",
      "Capas: [512, 256, 64, 32, 16], LR: 0.005 → Accuracy: 0.5317\n",
      "Capas: [512, 256, 64, 32, 16], LR: 0.001 → Accuracy: 0.6022\n",
      "Capas: [512, 256, 64, 32, 16], LR: 0.0005 → Accuracy: 0.6025\n",
      "Capas: [512, 256, 64, 32, 16], LR: 0.0001 → Accuracy: 0.6310\n",
      "Capas: [512, 256, 64, 32, 16], LR: 1e-05 → Accuracy: 0.6425\n",
      "Capas: [512, 256, 64, 32, 16, 4], LR: 0.005 → Accuracy: 0.5317\n",
      "Capas: [512, 256, 64, 32, 16, 4], LR: 0.001 → Accuracy: 0.5317\n",
      "Capas: [512, 256, 64, 32, 16, 4], LR: 0.0005 → Accuracy: 0.5317\n",
      "Capas: [512, 256, 64, 32, 16, 4], LR: 0.0001 → Accuracy: 0.6319\n",
      "Capas: [512, 256, 64, 32, 16, 4], LR: 1e-05 → Accuracy: 0.6325\n",
      "Mejor configuración: {'capas_ocultas': [512, 256, 64, 32, 16], 'lr': 1e-05}\n",
      "Mejor accuracy: 0.6425355503053537\n"
     ]
    }
   ],
   "source": [
    "# Evaluar distintos parametros\n",
    "parametros = {\n",
    "    \"capas_ocultas\": [[512, 128], \n",
    "                      [512, 256, 64],\n",
    "                      [64, 32, 16],\n",
    "                      [256, 64, 32, 16],\n",
    "                      [512, 256, 64, 32, 16],\n",
    "                      [512, 256, 64, 32, 16, 4]],   \n",
    "    \"lr\": [0.005, 0.001, 0.0005, 0.0001, 0.00001]\n",
    "}\n",
    "\n",
    "mejor_acc = 0\n",
    "mejor_modelo = None\n",
    "mejor_config = {}\n",
    "\n",
    "for capas, lr in product(parametros[\"capas_ocultas\"], parametros[\"lr\"]):\n",
    "    acc, modelo_temp = optimizar(784, capas, lr, train_loader, test_loader, 30)\n",
    "    print(f\"Capas: {capas}, LR: {lr} → Accuracy: {acc:.4f}\")\n",
    "    if acc > mejor_acc:\n",
    "        mejor_acc = acc\n",
    "        mejor_config = {\"capas_ocultas\": capas, \"lr\": lr}\n",
    "        mejor_modelo = modelo_temp\n",
    "        \n",
    "print(\"Mejor configuración:\", mejor_config)\n",
    "print(\"Mejor accuracy:\", mejor_acc)"
   ]
  },
  {
   "cell_type": "markdown",
   "id": "233ecf27",
   "metadata": {},
   "source": [
    "## Reentrenar con el mejor modelo"
   ]
  },
  {
   "cell_type": "code",
   "execution_count": 34,
   "id": "5d6affd9",
   "metadata": {},
   "outputs": [],
   "source": [
    "# REENTRENAR\n",
    "dim = 784\n",
    "capas = mejor_config[\"capas_ocultas\"]\n",
    "lr = mejor_config[\"lr\"]\n",
    "\n",
    "modelo_opt = RedNeuronalOpt(dim, capas)\n",
    "criterio = nn.BCEWithLogitsLoss()\n",
    "optimizador = torch.optim.Adam(modelo_opt.parameters(), lr=lr)\n",
    "\n",
    "perdida_batch_opt = []\n",
    "\n",
    "for epoch in range(150):\n",
    "    modelo_opt.train()\n",
    "    perdida_total = 0\n",
    "    for X_batch, y_batch in train_loader:\n",
    "        pred = modelo_opt(X_batch)\n",
    "        perdida = criterio(pred, y_batch)\n",
    "        optimizador.zero_grad()\n",
    "        perdida.backward()\n",
    "        optimizador.step()\n",
    "        perdida_total += perdida.item()\n",
    "    perdida_batch_opt.append(perdida_total / len(train_loader))\n",
    "    \n",
    "# EVALUACIÓN\n",
    "modelo_opt.eval()\n",
    "pred_finales_opt = []\n",
    "probabilidades_opt = []\n",
    "etiquetas_reales_opt = []\n",
    "with torch.no_grad():\n",
    "    for X_batch, y_batch in test_loader:\n",
    "        pred = modelo_opt(X_batch)\n",
    "        preds = (pred > 0.5).float()\n",
    "        pred_finales_opt.extend(preds.numpy())\n",
    "        probabilidades_opt.extend(pred.numpy())\n",
    "        etiquetas_reales_opt.extend(y_batch.numpy())"
   ]
  },
  {
   "cell_type": "markdown",
   "id": "3e1a7f12",
   "metadata": {},
   "source": [
    "# Resultados"
   ]
  },
  {
   "cell_type": "markdown",
   "id": "4b5cbdc5",
   "metadata": {},
   "source": [
    "## Resultados sin optimizar"
   ]
  },
  {
   "cell_type": "code",
   "execution_count": 36,
   "id": "8322a8dc",
   "metadata": {},
   "outputs": [
    {
     "name": "stdout",
     "output_type": "stream",
     "text": [
      "=== Reporte de Clasificación ===\n",
      "              precision    recall  f1-score   support\n",
      "\n",
      "         0.0     0.6143    0.6743    0.6429     11928\n",
      "         1.0     0.5840    0.5193    0.5498     10505\n",
      "\n",
      "    accuracy                         0.6017     22433\n",
      "   macro avg     0.5992    0.5968    0.5963     22433\n",
      "weighted avg     0.6001    0.6017    0.5993     22433\n",
      "\n"
     ]
    },
    {
     "data": {
      "image/png": "[encoded data removed]",
      "text/plain": [
       "<Figure size 500x400 with 2 Axes>"
      ]
     },
     "metadata": {},
     "output_type": "display_data"
    }
   ],
   "source": [
    "# Reporte de clasificación\n",
    "print(\"=== Reporte de Clasificación ===\")\n",
    "print(classification_report(etiquetas_reales, pred_finales, digits=4))\n",
    "\n",
    "# Matriz de confusión\n",
    "conf_mat_sin_opt = confusion_matrix(etiquetas_reales, pred_finales, labels=[0, 1])\n",
    "plt.figure(figsize=(5, 4))\n",
    "sns.heatmap(conf_mat_sin_opt, \n",
    "            annot=True, \n",
    "            fmt=\"d\", \n",
    "            cmap=\"Blues\",\n",
    "            annot_kws={\"size\": 14, \"color\": \"black\"},  # ← Forzar visibilidad del texto\n",
    "            linewidths=0.5, \n",
    "            linecolor=\"gray\",\n",
    "            xticklabels=[\"Sin Enfermedad\", \"Con Enfermedad\"],\n",
    "            yticklabels=[\"Sin Enfermedad\", \"Con Enfermedad\"])\n",
    "plt.title(\"Matriz de Confusión\")\n",
    "plt.xlabel(\"Predicción\")\n",
    "plt.ylabel(\"Real\")\n",
    "plt.tight_layout()\n",
    "plt.show()"
   ]
  },
  {
   "cell_type": "markdown",
   "id": "1c9156f2",
   "metadata": {},
   "source": [
    "## Resultados con Hiperparámetros"
   ]
  },
  {
   "cell_type": "code",
   "execution_count": 38,
   "id": "00abab84",
   "metadata": {},
   "outputs": [
    {
     "name": "stdout",
     "output_type": "stream",
     "text": [
      "=== Reporte de Clasificación ===\n",
      "              precision    recall  f1-score   support\n",
      "\n",
      "         0.0     0.6163    0.7470    0.6754     11928\n",
      "         1.0     0.6216    0.4719    0.5365     10505\n",
      "\n",
      "    accuracy                         0.6182     22433\n",
      "   macro avg     0.6189    0.6094    0.6059     22433\n",
      "weighted avg     0.6187    0.6182    0.6103     22433\n",
      "\n"
     ]
    },
    {
     "data": {
      "image/png": "[encoded data removed]",
      "text/plain": [
       "<Figure size 500x400 with 2 Axes>"
      ]
     },
     "metadata": {},
     "output_type": "display_data"
    }
   ],
   "source": [
    "print(\"=== Reporte de Clasificación ===\")\n",
    "print(classification_report(etiquetas_reales_opt, pred_finales_opt, digits=4))\n",
    "\n",
    "conf_mat_opt = confusion_matrix(etiquetas_reales_opt, pred_finales_opt, labels=[0, 1])\n",
    "plt.figure(figsize=(5, 4))\n",
    "sns.heatmap(conf_mat_opt, annot=True, fmt=\"d\", cmap=\"Blues\",\n",
    "            xticklabels=[\"Sin Enfermedad\", \"Con Enfermedad\"],\n",
    "            yticklabels=[\"Sin Enfermedad\", \"Con Enfermedad\"])\n",
    "plt.title(\"Matriz de Confusión\")\n",
    "plt.xlabel(\"Predicción\")\n",
    "plt.ylabel(\"Real\")\n",
    "plt.tight_layout()\n",
    "plt.show()"
   ]
  },
  {
   "cell_type": "markdown",
   "id": "57de7245",
   "metadata": {},
   "source": [
    "## Comparación de Pérdidas"
   ]
  },
  {
   "cell_type": "code",
   "execution_count": 40,
   "id": "04c6aa6d",
   "metadata": {},
   "outputs": [
    {
     "data": {
      "image/png": "[encoded data removed]",
      "text/plain": [
       "<Figure size 640x480 with 1 Axes>"
      ]
     },
     "metadata": {},
     "output_type": "display_data"
    }
   ],
   "source": [
    "# Grafico de pérdidas en entrenamiento --ADVERTENCIA-- puede matar el kernel en jupyter\n",
    "\n",
    "# Subconjunto de pérdida cada 20 epochs\n",
    "subset1 = perdida_batch[::15]\n",
    "subset2 = perdida_batch_opt[::15]\n",
    "\n",
    "# Crear los índices reales correspondientes (0, 15, 30, ...)\n",
    "epochs = list(range(0, len(perdida_batch), 15))\n",
    "\n",
    "plt.plot(epochs, subset1, label='Sin optimización', marker='o')\n",
    "plt.plot(epochs, subset2, label='Optimizado', marker='x')\n",
    "plt.title(\"Comparación pérdida promedio por epoch\")\n",
    "plt.xlabel(\"Epoch\")\n",
    "plt.ylabel(\"Pérdida\")\n",
    "plt.grid(True)\n",
    "plt.tight_layout()\n",
    "plt.show()"
   ]
  },
  {
   "cell_type": "code",
   "execution_count": null,
   "id": "bb32f629",
   "metadata": {},
   "outputs": [],
   "source": []
  },
  {
   "cell_type": "code",
   "execution_count": 44,
   "id": "0efb26fe",
   "metadata": {},
   "outputs": [
    {
     "data": {
      "text/plain": [
       "4957"
      ]
     },
     "execution_count": 44,
     "metadata": {},
     "output_type": "execute_result"
    }
   ],
   "source": [
    "conf_mat_opt[1,1]"
   ]
  },
  {
   "cell_type": "code",
   "execution_count": 45,
   "id": "e9ae25f7",
   "metadata": {},
   "outputs": [
    {
     "data": {
      "text/plain": [
       "5548"
      ]
     },
     "execution_count": 45,
     "metadata": {},
     "output_type": "execute_result"
    }
   ],
   "source": [
    "conf_mat_opt[1,0]"
   ]
  },
  {
   "cell_type": "code",
   "execution_count": 42,
   "id": "15d4f65b",
   "metadata": {},
   "outputs": [
    {
     "data": {
      "text/plain": [
       "5455"
      ]
     },
     "execution_count": 42,
     "metadata": {},
     "output_type": "execute_result"
    }
   ],
   "source": [
    "conf_mat_sin_opt[1, 1]"
   ]
  },
  {
   "cell_type": "code",
   "execution_count": 43,
   "id": "6f652e26",
   "metadata": {},
   "outputs": [
    {
     "data": {
      "text/plain": [
       "5050"
      ]
     },
     "execution_count": 43,
     "metadata": {},
     "output_type": "execute_result"
    }
   ],
   "source": [
    "conf_mat_sin_opt[1, 0]"
   ]
  },
  {
   "cell_type": "code",
   "execution_count": null,
   "id": "19906586",
   "metadata": {},
   "outputs": [],
   "source": []
  },
  {
   "cell_type": "code",
   "execution_count": null,
   "id": "f7e5a60a",
   "metadata": {},
   "outputs": [],
   "source": []
  },
  {
   "cell_type": "code",
   "execution_count": null,
   "id": "6559558e",
   "metadata": {},
   "outputs": [],
   "source": []
  },
  {
   "cell_type": "code",
   "execution_count": null,
   "id": "e1c28ecf",
   "metadata": {},
   "outputs": [],
   "source": []
  },
  {
   "cell_type": "code",
   "execution_count": null,
   "id": "a34bc943",
   "metadata": {},
   "outputs": [],
   "source": []
  },
  {
   "cell_type": "code",
   "execution_count": null,
   "id": "eaa43c1b",
   "metadata": {},
   "outputs": [],
   "source": []
  },
  {
   "cell_type": "code",
   "execution_count": null,
   "id": "e52604d9",
   "metadata": {},
   "outputs": [],
   "source": []
  },
  {
   "cell_type": "code",
   "execution_count": null,
   "id": "06dd1968",
   "metadata": {},
   "outputs": [],
   "source": []
  },
  {
   "cell_type": "code",
   "execution_count": null,
   "id": "78e7e7c6",
   "metadata": {},
   "outputs": [],
   "source": []
  },
  {
   "cell_type": "code",
   "execution_count": null,
   "id": "d2c54ef1",
   "metadata": {},
   "outputs": [],
   "source": []
  },
  {
   "cell_type": "code",
   "execution_count": null,
   "id": "b77e0632",
   "metadata": {},
   "outputs": [],
   "source": []
  },
  {
   "cell_type": "code",
   "execution_count": null,
   "id": "d5fba11f",
   "metadata": {},
   "outputs": [],
   "source": []
  },
  {
   "cell_type": "code",
   "execution_count": null,
   "id": "ef4406a0",
   "metadata": {},
   "outputs": [],
   "source": []
  },
  {
   "cell_type": "code",
   "execution_count": null,
   "id": "a2907f83",
   "metadata": {},
   "outputs": [],
   "source": []
  }
 ],
 "metadata": {
  "kernelspec": {
   "display_name": "Python 3 (ipykernel)",
   "language": "python",
   "name": "python3"
  },
  "language_info": {
   "codemirror_mode": {
    "name": "ipython",
    "version": 3
   },
   "file_extension": ".py",
   "mimetype": "text/x-python",
   "name": "python",
   "nbconvert_exporter": "python",
   "pygments_lexer": "ipython3",
   "version": "3.11.7"
  }
 },
 "nbformat": 4,
 "nbformat_minor": 5
}
