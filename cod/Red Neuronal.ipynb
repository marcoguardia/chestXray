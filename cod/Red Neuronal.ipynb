{
 "cells": [
  {
   "cell_type": "code",
   "execution_count": 1,
   "id": "401509a5",
   "metadata": {},
   "outputs": [],
   "source": [
    "import numpy as np\n",
    "import matplotlib.pyplot as plt\n",
    "import pandas as pd  \n",
    "import os\n",
    "import torch\n",
    "from torch import nn\n",
    "from torch.utils.data import Dataset, DataLoader\n",
    "from sklearn.metrics import classification_report, confusion_matrix, roc_auc_score\n",
    "import seaborn as sns"
   ]
  },
  {
   "cell_type": "markdown",
   "id": "1e3a7744",
   "metadata": {},
   "source": [
    "# Clases"
   ]
  },
  {
   "cell_type": "code",
   "execution_count": 2,
   "id": "2581f6b1",
   "metadata": {},
   "outputs": [],
   "source": [
    "class Datos(Dataset): \n",
    "    def __init__(self, imagenes, etiquetas):\n",
    "        \"\"\"\n",
    "        Convierte los datos originales a tensores de Pytorch.\n",
    "        \n",
    "        Parameters\n",
    "        --------------\n",
    "        imagenes:\n",
    "            Son las imagenes del dataset.\n",
    "        etiquetas:\n",
    "            Son las etiquetas que se usan para la calsificación\n",
    "        \n",
    "        Returns\n",
    "        -------------\n",
    "        No devuelve nada.\n",
    "        \"\"\"\n",
    "        self.imagenes = torch.tensor(imagenes, dtype=torch.float32)\n",
    "        self.etiquetas = torch.tensor(etiquetas, dtype=torch.float32)\n",
    "\n",
    "    def __len__(self):\n",
    "        \"\"\"\n",
    "        Calcula la cantidad de muestras de la base.\n",
    "        \n",
    "        Parameters\n",
    "        --------------\n",
    "        No recibe parámetros.\n",
    "        \n",
    "        Returns\n",
    "        -------------\n",
    "        len(self.imagenes):\n",
    "            Numero total de muestras.\n",
    "        \"\"\"\n",
    "        return len(self.imagenes)\n",
    "    \n",
    "    def set_imagen(self, idx, nueva_imagen):\n",
    "        \"\"\"\n",
    "        Reemplaza la imagen en el índice dado con una nueva imagen.\n",
    "        \n",
    "        Parameters\n",
    "        ----------\n",
    "        idx : int\n",
    "            Índice de la imagen a modificar.\n",
    "        nueva_imagen : torch.Tensor\n",
    "            Nueva imagen que reemplazará a la existente.\n",
    "        \"\"\"\n",
    "        self.imagenes[idx] = nueva_imagen\n",
    "\n",
    "    def set_etiqueta(self, idx, nueva_etiqueta):\n",
    "        \"\"\"\n",
    "        Reemplaza la etiqueta en el índice dado con una nueva etiqueta.\n",
    "        \n",
    "        Parameters\n",
    "        ----------\n",
    "        idx : int\n",
    "            Índice de la etiqueta a modificar.\n",
    "        nueva_etiqueta : torch.Tensor\n",
    "            Nueva etiqueta que reemplazará a la existente.\n",
    "        \"\"\"\n",
    "        self.etiquetas[idx] = nueva_etiqueta\n",
    "        \n",
    "    def __getitem__(self, idx):\n",
    "        \"\"\"\n",
    "        Obtener la imagen y la etiqueta de una imagen en específico.\n",
    "        \n",
    "        Parameters\n",
    "        --------------\n",
    "        idx:\n",
    "            Indice de la imagen a recuperar.\n",
    "        \n",
    "        Returns\n",
    "        -------------\n",
    "        self.imagenes[idx]:\n",
    "            Imagen del indice idx.\n",
    "        self.etiquetas[idx]:\n",
    "            Etiqueta de la imagen en el indice idx.\n",
    "        \"\"\"\n",
    "        return self.imagenes[idx], self.etiquetas[idx]"
   ]
  },
  {
   "cell_type": "code",
   "execution_count": 3,
   "id": "933f84a8",
   "metadata": {},
   "outputs": [],
   "source": [
    "# Definir el modelo\n",
    "class RedNeuronal(nn.Module):\n",
    "    \"\"\"\n",
    "    Red neuronal multicapa simple para clasificación binaria.\n",
    "    Toma como entrada imágenes en escala de grises de 28x28 píxeles.\n",
    "    \"\"\"\n",
    "\n",
    "    def __init__(self):\n",
    "        \"\"\"\n",
    "        Constructor de la red neuronal.\n",
    "        Define la arquitectura de la red como una secuencia de capas lineales y funciones de activación ReLU.\n",
    "        \"\"\"\n",
    "        super().__init__()  # Llama a nn.Module para heredar correctamente\n",
    "        self.net = nn.Sequential(\n",
    "            nn.Flatten(),                  # Convierte (1, 28, 28) → (784)\n",
    "            nn.Linear(28 * 28, 64),        # 784 → 64\n",
    "            nn.ReLU(),\n",
    "            nn.Linear(64, 32),             # 64 → 32\n",
    "            nn.ReLU(),\n",
    "            nn.Linear(32, 16),             # 32 → 16\n",
    "            nn.ReLU(),\n",
    "            nn.Linear(16, 1)               # 16 → 1 (salida binaria sin activación final)\n",
    "        )\n",
    "\n",
    "    def forward(self, x):\n",
    "        \"\"\"\n",
    "        Define el paso hacia adelante (forward) de la red.\n",
    "        \n",
    "        Parameters\n",
    "        ----------\n",
    "        x : torch.Tensor\n",
    "            Tensor de entrada con forma (batch_size, 1, 28, 28)\n",
    "\n",
    "        Returns\n",
    "        -------\n",
    "        torch.Tensor\n",
    "            Salida del modelo con forma (batch_size,)\n",
    "        \"\"\"\n",
    "        return self.net(x).squeeze(1)  # Elimina dimensión extra de salida (batch_size, 1) → (batch_size,)"
   ]
  },
  {
   "cell_type": "markdown",
   "id": "ad49be38",
   "metadata": {},
   "source": [
    "# Implementación"
   ]
  },
  {
   "cell_type": "code",
   "execution_count": 4,
   "id": "a6546cd5",
   "metadata": {},
   "outputs": [],
   "source": [
    "#Se cargan los datos 28 x 28\n",
    "data = np.load(\"chestmnist.npz\")\n",
    "\n",
    "# Función para convertir etiquetas multiclase a binaria\n",
    "def etiquetas_binarias(etiquetas):\n",
    "    \"\"\"\n",
    "    Convierte etiquetas multiclase/multietiqueta en etiquetas binarias.\n",
    "\n",
    "    Parameters\n",
    "    ----------\n",
    "    etiquetas : numpy.ndarray\n",
    "        Etiquetas originales de 0 y 1 donde 1 indica la presencia de una enefermedad\n",
    "\n",
    "    Returns\n",
    "    -------\n",
    "    numpy.ndarray\n",
    "        Arreglo con valores 0.0 o 1.0 indicando si la muestra tiene al menos una enfermedad\n",
    "    \"\"\"\n",
    "    return (etiquetas.sum(axis=1) > 0).astype(np.float32)\n",
    "\n",
    "\n",
    "# Imágenes y etiquetas\n",
    "X_train = data['train_images']\n",
    "y_train = etiquetas_binarias(data['train_labels'])\n",
    "\n",
    "X_test = data['test_images']\n",
    "y_test = etiquetas_binarias(data['test_labels'])\n",
    "\n",
    "# Agregar canal (1, H, W) pra poder usar Pytorch \n",
    "X_train = X_train[:, np.newaxis, :, :] #np.newaxis agregra una dimensión al arreglo\n",
    "X_test = X_test[:, np.newaxis, :, :] \n",
    "\n",
    "# Convertir los datos a tensores\n",
    "train_dataset = Datos(X_train, y_train)\n",
    "test_dataset = Datos(X_test, y_test)\n",
    "\n",
    "# Convertir los datos a DataLoaders para la implementación del modelo\n",
    "train_loader = DataLoader(train_dataset, batch_size=64, shuffle=True)\n",
    "test_loader = DataLoader(test_dataset, batch_size=64)"
   ]
  },
  {
   "cell_type": "code",
   "execution_count": 5,
   "id": "ae257551",
   "metadata": {},
   "outputs": [],
   "source": [
    "# Crear el modelo\n",
    "modelo = RedNeuronal()\n",
    "\n",
    "# Definir función de costo con pesos\n",
    "peso = torch.tensor([(y_train == 0).sum() / (y_train == 1).sum()], dtype=torch.float32)\n",
    "criterio = nn.BCEWithLogitsLoss(pos_weight=peso) \n",
    "\n",
    "# Definir forma de optimizar el modelo (optimizar función de costos)\n",
    "optimizador = torch.optim.SGD(modelo.parameters(), lr=0.001)\n",
    "\n",
    "# Entrenar el modelo\n",
    "perdida_batch = []\n",
    "batches_validos = 0\n",
    "\n",
    "for epoch in range(150):\n",
    "    modelo.train()\n",
    "    perdida_total = 0\n",
    "    for X_batch, y_batch in train_loader:\n",
    "        optimizador.zero_grad() # Limpia los gradientes acumulados\n",
    "        predicciones = modelo(X_batch) \n",
    "        perdida = criterio(predicciones, y_batch)\n",
    "        perdida.backward() # Calcula el gradiente con respecto a cada parámetro del modelo\n",
    "        optimizador.step() # Actualiza los parametros segun los gradientes\n",
    "        perdida_total += perdida.item() # Perdida acumulada en esta iteraccion\n",
    "    perdida_batch.append(perdida_total/len(train_loader))\n",
    "    # print(f\"Época {epoch+1} - Pérdida promedio: {perdida_total/len(train_loader):.4f}\")\n",
    "    "
   ]
  },
  {
   "cell_type": "code",
   "execution_count": 6,
   "id": "d2e461c9",
   "metadata": {},
   "outputs": [],
   "source": [
    "# Evaluar el modelo\n",
    "modelo.eval()\n",
    "\n",
    "pred_finales = []\n",
    "probabilidades = []\n",
    "etiquetas_reales = []\n",
    "\n",
    "correctas = 0\n",
    "total = 0\n",
    "\n",
    "with torch.no_grad(): # Desactiva el cálculo de gradientes (se usan los optimos)\n",
    "    for X_batch, y_batch in test_loader:\n",
    "        predicciones = modelo(X_batch) # Valores entre 0 y 1 \n",
    "        preds = (predicciones > 0.5).float() # Clasifica 1 si es mayor a 0.5\n",
    "        \n",
    "        correctas += (preds == y_batch).sum().item()\n",
    "        total += y_batch.size(0)\n",
    "        \n",
    "        probabilidades.extend(predicciones.numpy())\n",
    "        pred_finales.extend(preds.numpy())\n",
    "        etiquetas_reales.extend(y_batch.numpy())"
   ]
  },
  {
   "cell_type": "markdown",
   "id": "21002883",
   "metadata": {},
   "source": [
    "# Resultados"
   ]
  },
  {
   "cell_type": "code",
   "execution_count": 7,
   "id": "93d43b01",
   "metadata": {},
   "outputs": [
    {
     "name": "stdout",
     "output_type": "stream",
     "text": [
      "=== Reporte de Clasificación ===\n",
      "              precision    recall  f1-score   support\n",
      "\n",
      "         0.0     0.6664    0.6822    0.6742     11928\n",
      "         1.0     0.6291    0.6122    0.6205     10505\n",
      "\n",
      "    accuracy                         0.6494     22433\n",
      "   macro avg     0.6477    0.6472    0.6474     22433\n",
      "weighted avg     0.6489    0.6494    0.6491     22433\n",
      "\n"
     ]
    },
    {
     "data": {
      "image/png": "[encoded data removed]",
      "text/plain": [
       "<Figure size 500x400 with 2 Axes>"
      ]
     },
     "metadata": {},
     "output_type": "display_data"
    },
    {
     "data": {
      "image/png": "[encoded data removed]",
      "text/plain": [
       "<Figure size 640x480 with 1 Axes>"
      ]
     },
     "metadata": {},
     "output_type": "display_data"
    }
   ],
   "source": [
    "# Reporte de clasificación\n",
    "print(\"=== Reporte de Clasificación ===\")\n",
    "print(classification_report(etiquetas_reales, pred_finales, digits=4))\n",
    "\n",
    "# Matriz de confusión\n",
    "conf_mat = confusion_matrix(etiquetas_reales, pred_finales)\n",
    "plt.figure(figsize=(5, 4))\n",
    "sns.heatmap(conf_mat, annot=True, fmt=\"d\", cmap=\"Blues\",\n",
    "            annot_kws={\"color\": \"black\"},\n",
    "            xticklabels=[\"Sin Enfermedad\", \"Con Enfermedad\"],\n",
    "            yticklabels=[\"Sin Enfermedad\", \"Con Enfermedad\"])\n",
    "plt.title(\"Matriz de Confusión\")\n",
    "plt.xlabel(\"Predicción\")\n",
    "plt.ylabel(\"Real\")\n",
    "plt.tight_layout()\n",
    "plt.show()\n",
    "\n",
    "# Grafico de pérdidas en entrenamiento --ADVERTENCIA-- puede matar el kernel en jupyter\n",
    "\n",
    "# Subconjunto de pérdida cada 20 epochs\n",
    "subset = perdida_batch[::15]\n",
    "\n",
    "# Crear los índices reales correspondientes (0, 15, 30, ...)\n",
    "epochs = list(range(0, len(perdida_batch), 15))\n",
    "\n",
    "plt.plot(epochs, subset, marker='o')\n",
    "plt.title(\"Pérdida promedio por epoch\")\n",
    "plt.xlabel(\"Epoch\")\n",
    "plt.ylabel(\"Pérdida\")\n",
    "plt.grid(True)\n",
    "plt.show()"
   ]
  },
  {
   "cell_type": "code",
   "execution_count": null,
   "id": "a20ac447",
   "metadata": {},
   "outputs": [],
   "source": []
  },
  {
   "cell_type": "code",
   "execution_count": null,
   "id": "0d394280",
   "metadata": {},
   "outputs": [],
   "source": []
  },
  {
   "cell_type": "code",
   "execution_count": null,
   "id": "48e3d2e5",
   "metadata": {},
   "outputs": [],
   "source": []
  },
  {
   "cell_type": "code",
   "execution_count": null,
   "id": "844820d6",
   "metadata": {},
   "outputs": [],
   "source": []
  },
  {
   "cell_type": "code",
   "execution_count": null,
   "id": "b88346ae",
   "metadata": {},
   "outputs": [],
   "source": []
  },
  {
   "cell_type": "code",
   "execution_count": null,
   "id": "e38f034f",
   "metadata": {},
   "outputs": [],
   "source": []
  },
  {
   "cell_type": "code",
   "execution_count": null,
   "id": "91ed00cd",
   "metadata": {},
   "outputs": [],
   "source": []
  },
  {
   "cell_type": "code",
   "execution_count": null,
   "id": "85f756b6",
   "metadata": {},
   "outputs": [],
   "source": []
  },
  {
   "cell_type": "code",
   "execution_count": null,
   "id": "b952f10d",
   "metadata": {},
   "outputs": [],
   "source": []
  },
  {
   "cell_type": "code",
   "execution_count": null,
   "id": "bb3ccd87",
   "metadata": {},
   "outputs": [],
   "source": []
  },
  {
   "cell_type": "code",
   "execution_count": null,
   "id": "6e5b3104",
   "metadata": {},
   "outputs": [],
   "source": []
  },
  {
   "cell_type": "code",
   "execution_count": null,
   "id": "893defc9",
   "metadata": {},
   "outputs": [],
   "source": []
  },
  {
   "cell_type": "code",
   "execution_count": null,
   "id": "e62fd92e",
   "metadata": {},
   "outputs": [],
   "source": []
  },
  {
   "cell_type": "code",
   "execution_count": null,
   "id": "b8294b8e",
   "metadata": {},
   "outputs": [],
   "source": []
  },
  {
   "cell_type": "code",
   "execution_count": null,
   "id": "63b1a1c8",
   "metadata": {},
   "outputs": [],
   "source": []
  },
  {
   "cell_type": "code",
   "execution_count": null,
   "id": "185a038b",
   "metadata": {},
   "outputs": [],
   "source": []
  },
  {
   "cell_type": "code",
   "execution_count": null,
   "id": "e7b50e54",
   "metadata": {},
   "outputs": [],
   "source": []
  }
 ],
 "metadata": {
  "kernelspec": {
   "display_name": "Python 3 (ipykernel)",
   "language": "python",
   "name": "python3"
  },
  "language_info": {
   "codemirror_mode": {
    "name": "ipython",
    "version": 3
   },
   "file_extension": ".py",
   "mimetype": "text/x-python",
   "name": "python",
   "nbconvert_exporter": "python",
   "pygments_lexer": "ipython3",
   "version": "3.11.7"
  }
 },
 "nbformat": 4,
 "nbformat_minor": 5
}
